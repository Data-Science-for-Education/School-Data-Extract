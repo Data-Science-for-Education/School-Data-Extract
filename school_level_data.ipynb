{
 "metadata": {
  "language_info": {
   "codemirror_mode": {
    "name": "ipython",
    "version": 3
   },
   "file_extension": ".py",
   "mimetype": "text/x-python",
   "name": "python",
   "nbconvert_exporter": "python",
   "pygments_lexer": "ipython3",
   "version": "3.8.5-final"
  },
  "orig_nbformat": 2,
  "kernelspec": {
   "name": "python3",
   "display_name": "Python 3",
   "language": "python"
  }
 },
 "nbformat": 4,
 "nbformat_minor": 2,
 "cells": [
  {
   "cell_type": "code",
   "execution_count": 1,
   "metadata": {},
   "outputs": [],
   "source": [
    "import pandas as pd\n",
    "import glob, os    \n",
    "import matplotlib.pyplot as plt\n",
    "import numpy as np"
   ]
  },
  {
   "source": [
    "# School Level Data\n",
    "\n",
    "Read school level data and write 3 formats:\n",
    "1. Sample.csv containing a smaller csv file with a few rows\n",
    "2. write complete .csv file\n",
    "3. write complete .parquet file\n",
    "\n",
    "4. Upload to Remote storage and update github Repos\n"
   ],
   "cell_type": "markdown",
   "metadata": {}
  },
  {
   "cell_type": "code",
   "execution_count": 6,
   "metadata": {},
   "outputs": [],
   "source": [
    "# School Enrollment"
   ]
  },
  {
   "cell_type": "code",
   "execution_count": 3,
   "metadata": {},
   "outputs": [
    {
     "output_type": "execute_result",
     "data": {
      "text/plain": [
       "   year      ncessch  ncessch_num   leaid  fips  grade  race  sex  enrollment\n",
       "0  2012  10000200277  10000200277  100002     1      7     1    1        -1.0\n",
       "1  2012  10000200277  10000200277  100002     1      7     7   99         0.0\n",
       "2  2012  10000200277  10000200277  100002     1      7     1    2        -1.0\n",
       "3  2012  10000200277  10000200277  100002     1      7     5    2        -1.0\n",
       "4  2012  10000200277  10000200277  100002     1      7    99    1         0.0"
      ],
      "text/html": "<div>\n<style scoped>\n    .dataframe tbody tr th:only-of-type {\n        vertical-align: middle;\n    }\n\n    .dataframe tbody tr th {\n        vertical-align: top;\n    }\n\n    .dataframe thead th {\n        text-align: right;\n    }\n</style>\n<table border=\"1\" class=\"dataframe\">\n  <thead>\n    <tr style=\"text-align: right;\">\n      <th></th>\n      <th>year</th>\n      <th>ncessch</th>\n      <th>ncessch_num</th>\n      <th>leaid</th>\n      <th>fips</th>\n      <th>grade</th>\n      <th>race</th>\n      <th>sex</th>\n      <th>enrollment</th>\n    </tr>\n  </thead>\n  <tbody>\n    <tr>\n      <th>0</th>\n      <td>2012</td>\n      <td>10000200277</td>\n      <td>10000200277</td>\n      <td>100002</td>\n      <td>1</td>\n      <td>7</td>\n      <td>1</td>\n      <td>1</td>\n      <td>-1.0</td>\n    </tr>\n    <tr>\n      <th>1</th>\n      <td>2012</td>\n      <td>10000200277</td>\n      <td>10000200277</td>\n      <td>100002</td>\n      <td>1</td>\n      <td>7</td>\n      <td>7</td>\n      <td>99</td>\n      <td>0.0</td>\n    </tr>\n    <tr>\n      <th>2</th>\n      <td>2012</td>\n      <td>10000200277</td>\n      <td>10000200277</td>\n      <td>100002</td>\n      <td>1</td>\n      <td>7</td>\n      <td>1</td>\n      <td>2</td>\n      <td>-1.0</td>\n    </tr>\n    <tr>\n      <th>3</th>\n      <td>2012</td>\n      <td>10000200277</td>\n      <td>10000200277</td>\n      <td>100002</td>\n      <td>1</td>\n      <td>7</td>\n      <td>5</td>\n      <td>2</td>\n      <td>-1.0</td>\n    </tr>\n    <tr>\n      <th>4</th>\n      <td>2012</td>\n      <td>10000200277</td>\n      <td>10000200277</td>\n      <td>100002</td>\n      <td>1</td>\n      <td>7</td>\n      <td>99</td>\n      <td>1</td>\n      <td>0.0</td>\n    </tr>\n  </tbody>\n</table>\n</div>"
     },
     "metadata": {},
     "execution_count": 3
    }
   ],
   "source": [
    "# Load the District Enrollment files \n",
    "\n",
    "all_files = glob.glob(os.path.join( \"/Users/ajp/Downloads/urban/schools/schools_ccd_enrollment_*.csv\")) \n",
    "df_from_each_file = (pd.read_csv(f) for f in all_files)\n",
    "concatenated_df   = pd.concat(df_from_each_file, ignore_index=True)\n",
    "concatenated_df.head()"
   ]
  },
  {
   "source": [
    "# Lets gather some information from the data set.\n",
    "## How many rows? \n",
    "r, c = concatenated_df.shape\n",
    "print(\"Number of rows: {}\".format(r)) \n",
    "# How many columns?\n",
    "print(\"Number of columns: {}\".format(c)) \n",
    "# what are the different columns?\n",
    "print(concatenated_df.columns.unique)\n",
    "# Are there any Null Values?\n",
    "print(concatenated_df.isnull().values.any())\n",
    "# Any possible isues with the dataSet?\n",
    "# How can we communicate this data set to non-technical people?\n",
    "# What type of information can we gather from it?\n",
    "# Possible machine learning models availabe just based on this data set? "
   ],
   "cell_type": "code",
   "metadata": {},
   "execution_count": 4,
   "outputs": [
    {
     "output_type": "stream",
     "name": "stdout",
     "text": [
      "Number of rows: 317673136\n",
      "Number of columns: 9\n",
      "<bound method Index.unique of Index(['year', 'ncessch', 'ncessch_num', 'leaid', 'fips', 'grade', 'race',\n",
      "       'sex', 'enrollment'],\n",
      "      dtype='object')>\n",
      "True\n"
     ]
    }
   ]
  },
  {
   "cell_type": "code",
   "execution_count": 5,
   "metadata": {},
   "outputs": [],
   "source": [
    "# Save a Sample data set to 'data_lake/district/sample_csv/schools_ccd_lea_enrollment_sample.csv'\n",
    "schools_ccd_lea_enrollment_sample_sample_df = concatenated_df.sample(n=5000, random_state=1)\n",
    "\n",
    "schools_ccd_lea_enrollment_sample_sample_df.to_csv('data_lake/school_level/sample_csv/schools_ccd_enrollment_sample.csv', header=True, index=False) # 26 MB "
   ]
  },
  {
   "source": [
    "Provides"
   ],
   "cell_type": "markdown",
   "metadata": {}
  },
  {
   "cell_type": "code",
   "execution_count": 6,
   "metadata": {},
   "outputs": [],
   "source": [
    "# Writing file as Parquet. \n",
    "concatenated_df.to_parquet('data_lake/school_level/complete_parquet/schools_ccd_enrollment.parquet.gzip',compression='gzip')"
   ]
  },
  {
   "cell_type": "code",
   "execution_count": 7,
   "metadata": {},
   "outputs": [],
   "source": [
    "# Writing file as CSV. \n",
    "# If its bigger than 100mb we will have to upload to google drive. \n",
    "concatenated_df.to_csv('data_lake/school_level/complete_csv/schools_ccd_enrollment.csv')"
   ]
  },
  {
   "source": [
    "# School District Education Assesments "
   ],
   "cell_type": "markdown",
   "metadata": {}
  },
  {
   "cell_type": "code",
   "execution_count": 8,
   "metadata": {},
   "outputs": [
    {
     "output_type": "execute_result",
     "data": {
      "text/plain": [
       "   ncessch_num  year school_name  leaid_num                lea_name  fips  \\\n",
       "0  10000201667  2011       Camps     100002  Alabama Youth Services     1   \n",
       "1  10000201667  2011       Camps     100002  Alabama Youth Services     1   \n",
       "2  10000201667  2011       Camps     100002  Alabama Youth Services     1   \n",
       "3  10000201667  2011       Camps     100002  Alabama Youth Services     1   \n",
       "4  10000201667  2011       Camps     100002  Alabama Youth Services     1   \n",
       "\n",
       "   grade_edfacts  race  sex  lep  ...  read_test_num_valid  \\\n",
       "0             99    99   99   99  ...                 13.0   \n",
       "1             99     2   99   99  ...                  9.0   \n",
       "2             99    99   99   99  ...                  1.0   \n",
       "3             99    99   99   99  ...                 10.0   \n",
       "4             99    99   99   99  ...                  1.0   \n",
       "\n",
       "   read_test_pct_prof_low  read_test_pct_prof_high  read_test_pct_prof_midpt  \\\n",
       "0                    50.0                    100.0                      75.0   \n",
       "1                     0.0                     49.0                      24.5   \n",
       "2                    -3.0                     -3.0                      -3.0   \n",
       "3                     0.0                     49.0                      24.5   \n",
       "4                    -3.0                     -3.0                      -3.0   \n",
       "\n",
       "   math_test_num_valid  math_test_pct_prof_low  math_test_pct_prof_high  \\\n",
       "0                 10.0                     0.0                     49.0   \n",
       "1                  6.0                     0.0                     49.0   \n",
       "2                  1.0                    -3.0                     -3.0   \n",
       "3                  7.0                     0.0                     49.0   \n",
       "4                  1.0                    -3.0                     -3.0   \n",
       "\n",
       "   math_test_pct_prof_midpt      ncessch   leaid  \n",
       "0                      24.5  10000201667  100002  \n",
       "1                      24.5  10000201667  100002  \n",
       "2                      -3.0  10000201667  100002  \n",
       "3                      24.5  10000201667  100002  \n",
       "4                      -3.0  10000201667  100002  \n",
       "\n",
       "[5 rows x 26 columns]"
      ],
      "text/html": "<div>\n<style scoped>\n    .dataframe tbody tr th:only-of-type {\n        vertical-align: middle;\n    }\n\n    .dataframe tbody tr th {\n        vertical-align: top;\n    }\n\n    .dataframe thead th {\n        text-align: right;\n    }\n</style>\n<table border=\"1\" class=\"dataframe\">\n  <thead>\n    <tr style=\"text-align: right;\">\n      <th></th>\n      <th>ncessch_num</th>\n      <th>year</th>\n      <th>school_name</th>\n      <th>leaid_num</th>\n      <th>lea_name</th>\n      <th>fips</th>\n      <th>grade_edfacts</th>\n      <th>race</th>\n      <th>sex</th>\n      <th>lep</th>\n      <th>...</th>\n      <th>read_test_num_valid</th>\n      <th>read_test_pct_prof_low</th>\n      <th>read_test_pct_prof_high</th>\n      <th>read_test_pct_prof_midpt</th>\n      <th>math_test_num_valid</th>\n      <th>math_test_pct_prof_low</th>\n      <th>math_test_pct_prof_high</th>\n      <th>math_test_pct_prof_midpt</th>\n      <th>ncessch</th>\n      <th>leaid</th>\n    </tr>\n  </thead>\n  <tbody>\n    <tr>\n      <th>0</th>\n      <td>10000201667</td>\n      <td>2011</td>\n      <td>Camps</td>\n      <td>100002</td>\n      <td>Alabama Youth Services</td>\n      <td>1</td>\n      <td>99</td>\n      <td>99</td>\n      <td>99</td>\n      <td>99</td>\n      <td>...</td>\n      <td>13.0</td>\n      <td>50.0</td>\n      <td>100.0</td>\n      <td>75.0</td>\n      <td>10.0</td>\n      <td>0.0</td>\n      <td>49.0</td>\n      <td>24.5</td>\n      <td>10000201667</td>\n      <td>100002</td>\n    </tr>\n    <tr>\n      <th>1</th>\n      <td>10000201667</td>\n      <td>2011</td>\n      <td>Camps</td>\n      <td>100002</td>\n      <td>Alabama Youth Services</td>\n      <td>1</td>\n      <td>99</td>\n      <td>2</td>\n      <td>99</td>\n      <td>99</td>\n      <td>...</td>\n      <td>9.0</td>\n      <td>0.0</td>\n      <td>49.0</td>\n      <td>24.5</td>\n      <td>6.0</td>\n      <td>0.0</td>\n      <td>49.0</td>\n      <td>24.5</td>\n      <td>10000201667</td>\n      <td>100002</td>\n    </tr>\n    <tr>\n      <th>2</th>\n      <td>10000201667</td>\n      <td>2011</td>\n      <td>Camps</td>\n      <td>100002</td>\n      <td>Alabama Youth Services</td>\n      <td>1</td>\n      <td>99</td>\n      <td>99</td>\n      <td>99</td>\n      <td>99</td>\n      <td>...</td>\n      <td>1.0</td>\n      <td>-3.0</td>\n      <td>-3.0</td>\n      <td>-3.0</td>\n      <td>1.0</td>\n      <td>-3.0</td>\n      <td>-3.0</td>\n      <td>-3.0</td>\n      <td>10000201667</td>\n      <td>100002</td>\n    </tr>\n    <tr>\n      <th>3</th>\n      <td>10000201667</td>\n      <td>2011</td>\n      <td>Camps</td>\n      <td>100002</td>\n      <td>Alabama Youth Services</td>\n      <td>1</td>\n      <td>99</td>\n      <td>99</td>\n      <td>99</td>\n      <td>99</td>\n      <td>...</td>\n      <td>10.0</td>\n      <td>0.0</td>\n      <td>49.0</td>\n      <td>24.5</td>\n      <td>7.0</td>\n      <td>0.0</td>\n      <td>49.0</td>\n      <td>24.5</td>\n      <td>10000201667</td>\n      <td>100002</td>\n    </tr>\n    <tr>\n      <th>4</th>\n      <td>10000201667</td>\n      <td>2011</td>\n      <td>Camps</td>\n      <td>100002</td>\n      <td>Alabama Youth Services</td>\n      <td>1</td>\n      <td>99</td>\n      <td>99</td>\n      <td>99</td>\n      <td>99</td>\n      <td>...</td>\n      <td>1.0</td>\n      <td>-3.0</td>\n      <td>-3.0</td>\n      <td>-3.0</td>\n      <td>1.0</td>\n      <td>-3.0</td>\n      <td>-3.0</td>\n      <td>-3.0</td>\n      <td>10000201667</td>\n      <td>100002</td>\n    </tr>\n  </tbody>\n</table>\n<p>5 rows × 26 columns</p>\n</div>"
     },
     "metadata": {},
     "execution_count": 8
    }
   ],
   "source": [
    "# Read CSV's\n",
    "# we are using * to read all the years for CCD_LEA_enrollment_* at a School District level\n",
    "#path = \"school_districts/\"\n",
    "all_files = glob.glob(os.path.join(\"\", \"/Users/ajp/Downloads/urban/schools/schools_edfacts_assessments_*.csv\")) # 1GB \n",
    "df_from_each_file = (pd.read_csv(f) for f in all_files)\n",
    "districts_edfacts_assessments_df   = pd.concat(df_from_each_file, ignore_index=True)\n",
    "districts_edfacts_assessments_df.head()"
   ]
  },
  {
   "cell_type": "code",
   "execution_count": 9,
   "metadata": {},
   "outputs": [
    {
     "output_type": "stream",
     "name": "stdout",
     "text": [
      "Number of rows: 34392253\n",
      "Number of columns: 26\n",
      "<bound method Index.unique of Index(['ncessch_num', 'year', 'school_name', 'leaid_num', 'lea_name', 'fips',\n",
      "       'grade_edfacts', 'race', 'sex', 'lep', 'homeless', 'migrant',\n",
      "       'disability', 'econ_disadvantaged', 'foster_care', 'military_connected',\n",
      "       'read_test_num_valid', 'read_test_pct_prof_low',\n",
      "       'read_test_pct_prof_high', 'read_test_pct_prof_midpt',\n",
      "       'math_test_num_valid', 'math_test_pct_prof_low',\n",
      "       'math_test_pct_prof_high', 'math_test_pct_prof_midpt', 'ncessch',\n",
      "       'leaid'],\n",
      "      dtype='object')>\n",
      "True\n"
     ]
    }
   ],
   "source": [
    "# Lets gather some information from the data set.\n",
    "## How many rows? \n",
    "r, c = districts_edfacts_assessments_df.shape\n",
    "print(\"Number of rows: {}\".format(r)) \n",
    "# How many columns?\n",
    "print(\"Number of columns: {}\".format(c)) \n",
    "# what are the different columns?\n",
    "print(districts_edfacts_assessments_df.columns.unique)\n",
    "# Are there any Null Values?\n",
    "print(districts_edfacts_assessments_df.isnull().values.any())\n",
    "# Any possible isues with the dataSet?\n",
    "# How can we communicate this data set to non-technical people?\n",
    "# What type of information can we gather from it?\n",
    "# Possible machine learning models availabe just based on this data set? "
   ]
  },
  {
   "cell_type": "code",
   "execution_count": 10,
   "metadata": {},
   "outputs": [],
   "source": [
    "# Lets save a Sample data set\n",
    "districts_edfacts_assessments_sample_sample_df = districts_edfacts_assessments_df.sample(n=100000, random_state=1)\n",
    "\n",
    "districts_edfacts_assessments_sample_sample_df.to_csv('data_lake/school_level/sample_csv/schools_edfacts_assessments.csv', header=True, index=False)"
   ]
  },
  {
   "cell_type": "code",
   "execution_count": 11,
   "metadata": {},
   "outputs": [],
   "source": [
    "# Writing file as Parquet. \n",
    "districts_edfacts_assessments_df.to_parquet('data_lake/school_level/complete_parquet/schools_edfacts_assessments.parquet.gzip',compression='gzip')"
   ]
  },
  {
   "cell_type": "code",
   "execution_count": 12,
   "metadata": {},
   "outputs": [],
   "source": [
    "# Writing edfacts as csv\n",
    "districts_edfacts_assessments_df.to_csv('data_lake/school_level/complete_csv/schools_edfacts_assessments.csv')"
   ]
  }
 ]
}
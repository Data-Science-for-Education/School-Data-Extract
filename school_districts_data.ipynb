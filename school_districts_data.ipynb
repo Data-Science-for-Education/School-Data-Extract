{
 "metadata": {
  "language_info": {
   "codemirror_mode": {
    "name": "ipython",
    "version": 3
   },
   "file_extension": ".py",
   "mimetype": "text/x-python",
   "name": "python",
   "nbconvert_exporter": "python",
   "pygments_lexer": "ipython3",
   "version": 3
  },
  "orig_nbformat": 2
 },
 "nbformat": 4,
 "nbformat_minor": 2,
 "cells": [
  {
   "cell_type": "code",
   "execution_count": null,
   "metadata": {},
   "outputs": [],
   "source": [
    "# Read parquet File\n",
    "mydataframe = pd.read_parquet('schools_ccd_lea_enrollment_1986_2018_df_pyarrow.parquet.gzip', engine='pyarrow')\n",
    "\n",
    "mydataframe"
   ]
  },
  {
   "source": [
    "## School Districts Data\n"
   ],
   "cell_type": "markdown",
   "metadata": {}
  }
 ]
}
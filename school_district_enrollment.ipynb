{
 "metadata": {
  "language_info": {
   "codemirror_mode": {
    "name": "ipython",
    "version": 3
   },
   "file_extension": ".py",
   "mimetype": "text/x-python",
   "name": "python",
   "nbconvert_exporter": "python",
   "pygments_lexer": "ipython3",
   "version": "3.8.5-final"
  },
  "orig_nbformat": 2,
  "kernelspec": {
   "name": "python3",
   "display_name": "Python 3"
  }
 },
 "nbformat": 4,
 "nbformat_minor": 2,
 "cells": [
  {
   "source": [
    "# School District Enrollment Data"
   ],
   "cell_type": "markdown",
   "metadata": {}
  },
  {
   "cell_type": "code",
   "execution_count": 2,
   "metadata": {},
   "outputs": [],
   "source": [
    "import pandas as pd\n",
    "import glob, os    \n",
    "import matplotlib.pyplot as plt\n",
    "import numpy as np"
   ]
  },
  {
   "cell_type": "code",
   "execution_count": 15,
   "metadata": {},
   "outputs": [
    {
     "output_type": "execute_result",
     "data": {
      "text/plain": [
       "year                               int64\n",
       "leaid                              int64\n",
       "lea_name                          object\n",
       "state_leaid                       object\n",
       "street_mailing                    object\n",
       "                                  ...   \n",
       "cmsa                             float64\n",
       "bureau_indian_education          float64\n",
       "agency_charter_indicator         float64\n",
       "migrant_students                 float64\n",
       "guidance_counselors_other_fte    float64\n",
       "Length: 67, dtype: object"
      ]
     },
     "metadata": {},
     "execution_count": 15
    }
   ],
   "source": [
    "# School District Directory 1986-2018\n",
    "# https://educationdata.urban.org/csv/ccd/school-districts_lea_directory.csv\n",
    "# We are reading the school-districts_lea_directory.csv\n",
    "\"\"\"\n",
    "School district (local education agency identification)-level geographic and mailing information, agency type, highest and lowest grades offered, special education students and English language learners, and full-time equivalent teachers and other staff.\n",
    "\"\"\"\n",
    "\n",
    "\n",
    "concatenated_df = pd.read_csv(\"school_districts/school-districts_lea_directory.csv\")\n",
    "\n",
    "concatenated_df.dtypes"
   ]
  },
  {
   "cell_type": "code",
   "execution_count": 27,
   "metadata": {},
   "outputs": [
    {
     "output_type": "execute_result",
     "data": {
      "text/plain": [
       "        year    leaid                                   lea_name state_leaid  \\\n",
       "0       2018   100002                     Alabama Youth Services      AL-210   \n",
       "1       2018   100005                           Albertville City      AL-101   \n",
       "2       2018   100006                            Marshall County      AL-048   \n",
       "3       2018   100007                                Hoover City      AL-158   \n",
       "4       2018   100008                               Madison City      AL-169   \n",
       "...      ...      ...                                        ...         ...   \n",
       "583146  2015  6300026                             Japan District      HE6001   \n",
       "583147  2015  6600002                Guam Deparment of Education          66   \n",
       "583148  2015  7200030        PUERTO RICO DEPARTMENT OF EDUCATION          01   \n",
       "583149  2015  7800002                Saint Croix School District         002   \n",
       "583150  2015  7800030  Saint Thomas - Saint John School District         001   \n",
       "\n",
       "                street_mailing  city_mailing state_mailing  zip_mailing  \\\n",
       "0                    PO Box 66   Mount Meigs            AL      36057.0   \n",
       "1                107 W Main St   Albertville            AL      35950.0   \n",
       "2       12380 US Highway 431 S  Guntersville            AL      35976.0   \n",
       "3        2810 Metropolitan Way    Birmingham            AL      35243.0   \n",
       "4                211 Celtic Dr       Madison            AL      35758.0   \n",
       "...                        ...           ...           ...          ...   \n",
       "583146               Unit 5072           APO            AP      96328.0   \n",
       "583147      500 Mariner Avenue     Barrigada            GU      96913.0   \n",
       "583148           PO BOX 190759      SAN JUAN            PR        919.0   \n",
       "583149    2133 Hospital Street   Saint Croix            VI        820.0   \n",
       "583150       386 Annas Retreat  Saint Thomas            VI        802.0   \n",
       "\n",
       "       zip4_mailing                 street_location  ...  \\\n",
       "0              66.0     1000 Industrial School Road  ...   \n",
       "1            1625.0            107 West Main Street  ...   \n",
       "2            9351.0          12380 US Highway 431 S  ...   \n",
       "3            2944.0           2810 Metropolitan Way  ...   \n",
       "4            1853.0                211 Celtic Drive  ...   \n",
       "...             ...                             ...  ...   \n",
       "583146       5072.0                              -1  ...   \n",
       "583147          nan                              -1  ...   \n",
       "583148        759.0  CALLE FEDERICO COSTAS NUM. 150  ...   \n",
       "583149       4665.0            2133 Hospital Street  ...   \n",
       "583150          nan               386 Annas Retreat  ...   \n",
       "\n",
       "       school_counselors_fte teachers_ungraded_fte  spec_ed_students  \\\n",
       "0                        0.0                  0.00              36.0   \n",
       "1                        0.0                  0.00             443.0   \n",
       "2                        0.0                  0.00             845.0   \n",
       "3                        0.0                  0.00            1316.0   \n",
       "4                        0.0                  0.00            1277.0   \n",
       "...                      ...                   ...               ...   \n",
       "583146                   NaN                 -1.00              -1.0   \n",
       "583147                   NaN                  0.00              -1.0   \n",
       "583148                   NaN               5665.68          123376.0   \n",
       "583149                   NaN                 10.00             637.0   \n",
       "583150                   NaN                 11.00             570.0   \n",
       "\n",
       "       english_language_learners enrollment  cmsa  bureau_indian_education  \\\n",
       "0                            NaN        NaN   NaN                      NaN   \n",
       "1                          927.0     5636.0   NaN                      NaN   \n",
       "2                          446.0     5652.0   NaN                      NaN   \n",
       "3                          813.0    13952.0   NaN                      NaN   \n",
       "4                          436.0    11290.0   NaN                      NaN   \n",
       "...                          ...        ...   ...                      ...   \n",
       "583146                      -1.0     8157.0   NaN                      0.0   \n",
       "583147                   14549.0    30821.0   NaN                      0.0   \n",
       "583148                    1552.0   379818.0   NaN                      0.0   \n",
       "583149                     277.0     6559.0   NaN                      0.0   \n",
       "583150                     799.0     7246.0   NaN                      0.0   \n",
       "\n",
       "        agency_charter_indicator migrant_students  \\\n",
       "0                            NaN              NaN   \n",
       "1                            NaN              NaN   \n",
       "2                            NaN              NaN   \n",
       "3                            NaN              NaN   \n",
       "4                            NaN              NaN   \n",
       "...                          ...              ...   \n",
       "583146                       3.0              NaN   \n",
       "583147                       3.0              NaN   \n",
       "583148                       3.0              NaN   \n",
       "583149                       3.0              NaN   \n",
       "583150                       3.0              NaN   \n",
       "\n",
       "        guidance_counselors_other_fte  \n",
       "0                                 NaN  \n",
       "1                                 NaN  \n",
       "2                                 NaN  \n",
       "3                                 NaN  \n",
       "4                                 NaN  \n",
       "...                               ...  \n",
       "583146                           -1.0  \n",
       "583147                            0.0  \n",
       "583148                          659.0  \n",
       "583149                            1.0  \n",
       "583150                            0.0  \n",
       "\n",
       "[583151 rows x 67 columns]"
      ],
      "text/html": "<div>\n<style scoped>\n    .dataframe tbody tr th:only-of-type {\n        vertical-align: middle;\n    }\n\n    .dataframe tbody tr th {\n        vertical-align: top;\n    }\n\n    .dataframe thead th {\n        text-align: right;\n    }\n</style>\n<table border=\"1\" class=\"dataframe\">\n  <thead>\n    <tr style=\"text-align: right;\">\n      <th></th>\n      <th>year</th>\n      <th>leaid</th>\n      <th>lea_name</th>\n      <th>state_leaid</th>\n      <th>street_mailing</th>\n      <th>city_mailing</th>\n      <th>state_mailing</th>\n      <th>zip_mailing</th>\n      <th>zip4_mailing</th>\n      <th>street_location</th>\n      <th>...</th>\n      <th>school_counselors_fte</th>\n      <th>teachers_ungraded_fte</th>\n      <th>spec_ed_students</th>\n      <th>english_language_learners</th>\n      <th>enrollment</th>\n      <th>cmsa</th>\n      <th>bureau_indian_education</th>\n      <th>agency_charter_indicator</th>\n      <th>migrant_students</th>\n      <th>guidance_counselors_other_fte</th>\n    </tr>\n  </thead>\n  <tbody>\n    <tr>\n      <th>0</th>\n      <td>2018</td>\n      <td>100002</td>\n      <td>Alabama Youth Services</td>\n      <td>AL-210</td>\n      <td>PO Box 66</td>\n      <td>Mount Meigs</td>\n      <td>AL</td>\n      <td>36057.0</td>\n      <td>66.0</td>\n      <td>1000 Industrial School Road</td>\n      <td>...</td>\n      <td>0.0</td>\n      <td>0.00</td>\n      <td>36.0</td>\n      <td>NaN</td>\n      <td>NaN</td>\n      <td>NaN</td>\n      <td>NaN</td>\n      <td>NaN</td>\n      <td>NaN</td>\n      <td>NaN</td>\n    </tr>\n    <tr>\n      <th>1</th>\n      <td>2018</td>\n      <td>100005</td>\n      <td>Albertville City</td>\n      <td>AL-101</td>\n      <td>107 W Main St</td>\n      <td>Albertville</td>\n      <td>AL</td>\n      <td>35950.0</td>\n      <td>1625.0</td>\n      <td>107 West Main Street</td>\n      <td>...</td>\n      <td>0.0</td>\n      <td>0.00</td>\n      <td>443.0</td>\n      <td>927.0</td>\n      <td>5636.0</td>\n      <td>NaN</td>\n      <td>NaN</td>\n      <td>NaN</td>\n      <td>NaN</td>\n      <td>NaN</td>\n    </tr>\n    <tr>\n      <th>2</th>\n      <td>2018</td>\n      <td>100006</td>\n      <td>Marshall County</td>\n      <td>AL-048</td>\n      <td>12380 US Highway 431 S</td>\n      <td>Guntersville</td>\n      <td>AL</td>\n      <td>35976.0</td>\n      <td>9351.0</td>\n      <td>12380 US Highway 431 S</td>\n      <td>...</td>\n      <td>0.0</td>\n      <td>0.00</td>\n      <td>845.0</td>\n      <td>446.0</td>\n      <td>5652.0</td>\n      <td>NaN</td>\n      <td>NaN</td>\n      <td>NaN</td>\n      <td>NaN</td>\n      <td>NaN</td>\n    </tr>\n    <tr>\n      <th>3</th>\n      <td>2018</td>\n      <td>100007</td>\n      <td>Hoover City</td>\n      <td>AL-158</td>\n      <td>2810 Metropolitan Way</td>\n      <td>Birmingham</td>\n      <td>AL</td>\n      <td>35243.0</td>\n      <td>2944.0</td>\n      <td>2810 Metropolitan Way</td>\n      <td>...</td>\n      <td>0.0</td>\n      <td>0.00</td>\n      <td>1316.0</td>\n      <td>813.0</td>\n      <td>13952.0</td>\n      <td>NaN</td>\n      <td>NaN</td>\n      <td>NaN</td>\n      <td>NaN</td>\n      <td>NaN</td>\n    </tr>\n    <tr>\n      <th>4</th>\n      <td>2018</td>\n      <td>100008</td>\n      <td>Madison City</td>\n      <td>AL-169</td>\n      <td>211 Celtic Dr</td>\n      <td>Madison</td>\n      <td>AL</td>\n      <td>35758.0</td>\n      <td>1853.0</td>\n      <td>211 Celtic Drive</td>\n      <td>...</td>\n      <td>0.0</td>\n      <td>0.00</td>\n      <td>1277.0</td>\n      <td>436.0</td>\n      <td>11290.0</td>\n      <td>NaN</td>\n      <td>NaN</td>\n      <td>NaN</td>\n      <td>NaN</td>\n      <td>NaN</td>\n    </tr>\n    <tr>\n      <th>...</th>\n      <td>...</td>\n      <td>...</td>\n      <td>...</td>\n      <td>...</td>\n      <td>...</td>\n      <td>...</td>\n      <td>...</td>\n      <td>...</td>\n      <td>...</td>\n      <td>...</td>\n      <td>...</td>\n      <td>...</td>\n      <td>...</td>\n      <td>...</td>\n      <td>...</td>\n      <td>...</td>\n      <td>...</td>\n      <td>...</td>\n      <td>...</td>\n      <td>...</td>\n      <td>...</td>\n    </tr>\n    <tr>\n      <th>583146</th>\n      <td>2015</td>\n      <td>6300026</td>\n      <td>Japan District</td>\n      <td>HE6001</td>\n      <td>Unit 5072</td>\n      <td>APO</td>\n      <td>AP</td>\n      <td>96328.0</td>\n      <td>5072.0</td>\n      <td>-1</td>\n      <td>...</td>\n      <td>NaN</td>\n      <td>-1.00</td>\n      <td>-1.0</td>\n      <td>-1.0</td>\n      <td>8157.0</td>\n      <td>NaN</td>\n      <td>0.0</td>\n      <td>3.0</td>\n      <td>NaN</td>\n      <td>-1.0</td>\n    </tr>\n    <tr>\n      <th>583147</th>\n      <td>2015</td>\n      <td>6600002</td>\n      <td>Guam Deparment of Education</td>\n      <td>66</td>\n      <td>500 Mariner Avenue</td>\n      <td>Barrigada</td>\n      <td>GU</td>\n      <td>96913.0</td>\n      <td>nan</td>\n      <td>-1</td>\n      <td>...</td>\n      <td>NaN</td>\n      <td>0.00</td>\n      <td>-1.0</td>\n      <td>14549.0</td>\n      <td>30821.0</td>\n      <td>NaN</td>\n      <td>0.0</td>\n      <td>3.0</td>\n      <td>NaN</td>\n      <td>0.0</td>\n    </tr>\n    <tr>\n      <th>583148</th>\n      <td>2015</td>\n      <td>7200030</td>\n      <td>PUERTO RICO DEPARTMENT OF EDUCATION</td>\n      <td>01</td>\n      <td>PO BOX 190759</td>\n      <td>SAN JUAN</td>\n      <td>PR</td>\n      <td>919.0</td>\n      <td>759.0</td>\n      <td>CALLE FEDERICO COSTAS NUM. 150</td>\n      <td>...</td>\n      <td>NaN</td>\n      <td>5665.68</td>\n      <td>123376.0</td>\n      <td>1552.0</td>\n      <td>379818.0</td>\n      <td>NaN</td>\n      <td>0.0</td>\n      <td>3.0</td>\n      <td>NaN</td>\n      <td>659.0</td>\n    </tr>\n    <tr>\n      <th>583149</th>\n      <td>2015</td>\n      <td>7800002</td>\n      <td>Saint Croix School District</td>\n      <td>002</td>\n      <td>2133 Hospital Street</td>\n      <td>Saint Croix</td>\n      <td>VI</td>\n      <td>820.0</td>\n      <td>4665.0</td>\n      <td>2133 Hospital Street</td>\n      <td>...</td>\n      <td>NaN</td>\n      <td>10.00</td>\n      <td>637.0</td>\n      <td>277.0</td>\n      <td>6559.0</td>\n      <td>NaN</td>\n      <td>0.0</td>\n      <td>3.0</td>\n      <td>NaN</td>\n      <td>1.0</td>\n    </tr>\n    <tr>\n      <th>583150</th>\n      <td>2015</td>\n      <td>7800030</td>\n      <td>Saint Thomas - Saint John School District</td>\n      <td>001</td>\n      <td>386 Annas Retreat</td>\n      <td>Saint Thomas</td>\n      <td>VI</td>\n      <td>802.0</td>\n      <td>nan</td>\n      <td>386 Annas Retreat</td>\n      <td>...</td>\n      <td>NaN</td>\n      <td>11.00</td>\n      <td>570.0</td>\n      <td>799.0</td>\n      <td>7246.0</td>\n      <td>NaN</td>\n      <td>0.0</td>\n      <td>3.0</td>\n      <td>NaN</td>\n      <td>0.0</td>\n    </tr>\n  </tbody>\n</table>\n<p>583151 rows × 67 columns</p>\n</div>"
     },
     "metadata": {},
     "execution_count": 27
    }
   ],
   "source": [
    "#state_leaid\n",
    "\n",
    "concatenated_df['state_leaid'] = concatenated_df['state_leaid'].astype('str') \n",
    "concatenated_df['zip4_mailing'] = concatenated_df['zip4_mailing'].astype('str') \n",
    "concatenated_df['zip4_location'] = concatenated_df['zip4_location'].astype('str') \n",
    "concatenated_df['phone'] = concatenated_df['phone'].astype('str') \n",
    "concatenated_df['supervisory_union_number'] = concatenated_df['supervisory_union_number'].astype('str') \n",
    "concatenated_df['state_leg_district_upper'] = concatenated_df['state_leg_district_upper'].astype('str') \n",
    "#state_leg_district_upper\n",
    "concatenated_df\n",
    "\n"
   ]
  },
  {
   "cell_type": "code",
   "execution_count": 28,
   "metadata": {},
   "outputs": [],
   "source": [
    "# Writing file as Parquet. \n",
    "# Parquet files are stored in column format and are smaller in size opposed to a .csv\n",
    "concatenated_df.to_parquet('school_districts_lea_directory_1986_2018_df_pyarrow.parquet.gzip',\n",
    "                    engine='fastparquet',\n",
    "                   compression='gzip')"
   ]
  }
 ]
}
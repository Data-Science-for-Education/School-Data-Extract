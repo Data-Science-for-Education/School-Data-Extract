{
 "metadata": {
  "language_info": {
   "codemirror_mode": {
    "name": "ipython",
    "version": 3
   },
   "file_extension": ".py",
   "mimetype": "text/x-python",
   "name": "python",
   "nbconvert_exporter": "python",
   "pygments_lexer": "ipython3",
   "version": "3.8.5-final"
  },
  "orig_nbformat": 2,
  "kernelspec": {
   "name": "python3",
   "display_name": "Python 3",
   "language": "python"
  }
 },
 "nbformat": 4,
 "nbformat_minor": 2,
 "cells": [
  {
   "cell_type": "code",
   "execution_count": 5,
   "metadata": {},
   "outputs": [],
   "source": [
    "import pandas as pd\n",
    "import glob, os    \n",
    "import matplotlib.pyplot as plt\n",
    "import numpy as np"
   ]
  },
  {
   "source": [
    "# School District Data\n",
    "\n",
    "Read District level data and write 3 formats:\n",
    "1. Sample.csv containing a smaller csv file with a few rows\n",
    "2. write complete .csv file\n",
    "3. write complete .parquet file\n",
    "\n",
    "4. Upload to Remote storage and update github Repos\n"
   ],
   "cell_type": "markdown",
   "metadata": {}
  },
  {
   "cell_type": "code",
   "execution_count": 6,
   "metadata": {},
   "outputs": [],
   "source": [
    "# School Enrollment"
   ]
  },
  {
   "cell_type": "code",
   "execution_count": 7,
   "metadata": {},
   "outputs": [
    {
     "output_type": "execute_result",
     "data": {
      "text/plain": [
       "   year   leaid  fips  grade  race  sex  enrollment\n",
       "0  1999  100002     1      3     1    1         0.0\n",
       "1  1999  100002     1      3     1    2         0.0\n",
       "2  1999  100002     1      3     1   99         0.0\n",
       "3  1999  100002     1      3     2    1         0.0\n",
       "4  1999  100002     1      3     2    2         0.0"
      ],
      "text/html": "<div>\n<style scoped>\n    .dataframe tbody tr th:only-of-type {\n        vertical-align: middle;\n    }\n\n    .dataframe tbody tr th {\n        vertical-align: top;\n    }\n\n    .dataframe thead th {\n        text-align: right;\n    }\n</style>\n<table border=\"1\" class=\"dataframe\">\n  <thead>\n    <tr style=\"text-align: right;\">\n      <th></th>\n      <th>year</th>\n      <th>leaid</th>\n      <th>fips</th>\n      <th>grade</th>\n      <th>race</th>\n      <th>sex</th>\n      <th>enrollment</th>\n    </tr>\n  </thead>\n  <tbody>\n    <tr>\n      <th>0</th>\n      <td>1999</td>\n      <td>100002</td>\n      <td>1</td>\n      <td>3</td>\n      <td>1</td>\n      <td>1</td>\n      <td>0.0</td>\n    </tr>\n    <tr>\n      <th>1</th>\n      <td>1999</td>\n      <td>100002</td>\n      <td>1</td>\n      <td>3</td>\n      <td>1</td>\n      <td>2</td>\n      <td>0.0</td>\n    </tr>\n    <tr>\n      <th>2</th>\n      <td>1999</td>\n      <td>100002</td>\n      <td>1</td>\n      <td>3</td>\n      <td>1</td>\n      <td>99</td>\n      <td>0.0</td>\n    </tr>\n    <tr>\n      <th>3</th>\n      <td>1999</td>\n      <td>100002</td>\n      <td>1</td>\n      <td>3</td>\n      <td>2</td>\n      <td>1</td>\n      <td>0.0</td>\n    </tr>\n    <tr>\n      <th>4</th>\n      <td>1999</td>\n      <td>100002</td>\n      <td>1</td>\n      <td>3</td>\n      <td>2</td>\n      <td>2</td>\n      <td>0.0</td>\n    </tr>\n  </tbody>\n</table>\n</div>"
     },
     "metadata": {},
     "execution_count": 7
    }
   ],
   "source": [
    "# Load the District Enrollment files \n",
    "\n",
    "all_files = glob.glob(os.path.join( \"/Users/ajp/Downloads/urban/school_districts/schools_ccd_lea_enrollment_*.csv\")) \n",
    "ta\n",
    "df_from_each_file = (pd.read_csv(f) for f in all_files)\n",
    "concatenated_df   = pd.concat(df_from_each_file, ignore_index=True)\n",
    "concatenated_df.head()"
   ]
  },
  {
   "source": [
    "# Lets gather some information from the data set.\n",
    "## How many rows? \n",
    "r, c = concatenated_df.shape\n",
    "print(\"Number of rows: {}\".format(r)) \n",
    "# How many columns?\n",
    "print(\"Number of columns: {}\".format(c)) \n",
    "# what are the different columns?\n",
    "print(concatenated_df.columns.unique)\n",
    "# Are there any Null Values?\n",
    "print(concatenated_df.isnull().values.any())\n",
    "# Any possible isues with the dataSet?\n",
    "# How can we communicate this data set to non-technical people?\n",
    "# What type of information can we gather from it?\n",
    "# Possible machine learning models availabe just based on this data set? "
   ],
   "cell_type": "code",
   "metadata": {},
   "execution_count": 8,
   "outputs": [
    {
     "output_type": "stream",
     "name": "stdout",
     "text": [
      "Number of rows: 102513455\n",
      "Number of columns: 7\n",
      "<bound method Index.unique of Index(['year', 'leaid', 'fips', 'grade', 'race', 'sex', 'enrollment'], dtype='object')>\n",
      "True\n"
     ]
    }
   ]
  },
  {
   "cell_type": "code",
   "execution_count": 9,
   "metadata": {},
   "outputs": [],
   "source": [
    "# Save a Sample data set to 'data_lake/district/sample_csv/schools_ccd_lea_enrollment_sample.csv'\n",
    "\n",
    "\n",
    "schools_ccd_lea_enrollment_sample_sample_df = concatenated_df.sample(n=100000, random_state=1)\n",
    "\n",
    "schools_ccd_lea_enrollment_sample_sample_df.to_csv('data_lake/district/sample_csv/schools_ccd_lea_enrollment_sample.csv', header=True, index=False) # 26 MB "
   ]
  },
  {
   "source": [
    "Provides"
   ],
   "cell_type": "markdown",
   "metadata": {}
  },
  {
   "cell_type": "code",
   "execution_count": 10,
   "metadata": {},
   "outputs": [],
   "source": [
    "# Writing file as Parquet. \n",
    "concatenated_df.to_parquet('data_lake/district/complete_parquet/schools_ccd_lea_enrollment.parquet.gzip',compression='gzip')"
   ]
  },
  {
   "cell_type": "code",
   "execution_count": 11,
   "metadata": {},
   "outputs": [],
   "source": [
    "# Writing file as CSV. \n",
    "# If its bigger than 100mb we will have to upload to google drive. \n",
    "concatenated_df.to_csv('data_lake/district/complete_csv/schools_ccd_lea_enrollment.csv')"
   ]
  },
  {
   "source": [
    "# School District Education Assesments "
   ],
   "cell_type": "markdown",
   "metadata": {}
  },
  {
   "cell_type": "code",
   "execution_count": 12,
   "metadata": {},
   "outputs": [
    {
     "output_type": "execute_result",
     "data": {
      "text/plain": [
       "    leaid  leaid_num  year          lea_name  fips  grade_edfacts  race  sex  \\\n",
       "0  100005     100005  2016  Albertville City     1             99    99   99   \n",
       "1  100005     100005  2016  Albertville City     1             99     5   99   \n",
       "2  100005     100005  2016  Albertville City     1             99     4   99   \n",
       "3  100005     100005  2016  Albertville City     1             99     2   99   \n",
       "4  100005     100005  2016  Albertville City     1             99    99   99   \n",
       "\n",
       "   lep  homeless  ...  foster_care  military_connected  read_test_num_valid  \\\n",
       "0   99        99  ...           99                  99               2797.0   \n",
       "1   99        99  ...           99                  99                  3.0   \n",
       "2   99        99  ...           99                  99                 16.0   \n",
       "3   99        99  ...           99                  99                 91.0   \n",
       "4   99        99  ...           99                  99                177.0   \n",
       "\n",
       "   read_test_pct_prof_low  read_test_pct_prof_high  read_test_pct_prof_midpt  \\\n",
       "0                    28.0                     28.0                      28.0   \n",
       "1                    -3.0                     -3.0                      -3.0   \n",
       "2                    40.0                     59.0                      49.5   \n",
       "3                    10.0                     14.0                      12.0   \n",
       "4                    10.0                     14.0                      12.0   \n",
       "\n",
       "   math_test_num_valid  math_test_pct_prof_low  math_test_pct_prof_high  \\\n",
       "0               2837.0                    35.0                     35.0   \n",
       "1                  3.0                    -3.0                     -3.0   \n",
       "2                 17.0                    40.0                     59.0   \n",
       "3                 92.0                    15.0                     19.0   \n",
       "4                178.0                    20.0                     24.0   \n",
       "\n",
       "   math_test_pct_prof_midpt  \n",
       "0                      35.0  \n",
       "1                      -3.0  \n",
       "2                      49.5  \n",
       "3                      17.0  \n",
       "4                      22.0  \n",
       "\n",
       "[5 rows x 23 columns]"
      ],
      "text/html": "<div>\n<style scoped>\n    .dataframe tbody tr th:only-of-type {\n        vertical-align: middle;\n    }\n\n    .dataframe tbody tr th {\n        vertical-align: top;\n    }\n\n    .dataframe thead th {\n        text-align: right;\n    }\n</style>\n<table border=\"1\" class=\"dataframe\">\n  <thead>\n    <tr style=\"text-align: right;\">\n      <th></th>\n      <th>leaid</th>\n      <th>leaid_num</th>\n      <th>year</th>\n      <th>lea_name</th>\n      <th>fips</th>\n      <th>grade_edfacts</th>\n      <th>race</th>\n      <th>sex</th>\n      <th>lep</th>\n      <th>homeless</th>\n      <th>...</th>\n      <th>foster_care</th>\n      <th>military_connected</th>\n      <th>read_test_num_valid</th>\n      <th>read_test_pct_prof_low</th>\n      <th>read_test_pct_prof_high</th>\n      <th>read_test_pct_prof_midpt</th>\n      <th>math_test_num_valid</th>\n      <th>math_test_pct_prof_low</th>\n      <th>math_test_pct_prof_high</th>\n      <th>math_test_pct_prof_midpt</th>\n    </tr>\n  </thead>\n  <tbody>\n    <tr>\n      <th>0</th>\n      <td>100005</td>\n      <td>100005</td>\n      <td>2016</td>\n      <td>Albertville City</td>\n      <td>1</td>\n      <td>99</td>\n      <td>99</td>\n      <td>99</td>\n      <td>99</td>\n      <td>99</td>\n      <td>...</td>\n      <td>99</td>\n      <td>99</td>\n      <td>2797.0</td>\n      <td>28.0</td>\n      <td>28.0</td>\n      <td>28.0</td>\n      <td>2837.0</td>\n      <td>35.0</td>\n      <td>35.0</td>\n      <td>35.0</td>\n    </tr>\n    <tr>\n      <th>1</th>\n      <td>100005</td>\n      <td>100005</td>\n      <td>2016</td>\n      <td>Albertville City</td>\n      <td>1</td>\n      <td>99</td>\n      <td>5</td>\n      <td>99</td>\n      <td>99</td>\n      <td>99</td>\n      <td>...</td>\n      <td>99</td>\n      <td>99</td>\n      <td>3.0</td>\n      <td>-3.0</td>\n      <td>-3.0</td>\n      <td>-3.0</td>\n      <td>3.0</td>\n      <td>-3.0</td>\n      <td>-3.0</td>\n      <td>-3.0</td>\n    </tr>\n    <tr>\n      <th>2</th>\n      <td>100005</td>\n      <td>100005</td>\n      <td>2016</td>\n      <td>Albertville City</td>\n      <td>1</td>\n      <td>99</td>\n      <td>4</td>\n      <td>99</td>\n      <td>99</td>\n      <td>99</td>\n      <td>...</td>\n      <td>99</td>\n      <td>99</td>\n      <td>16.0</td>\n      <td>40.0</td>\n      <td>59.0</td>\n      <td>49.5</td>\n      <td>17.0</td>\n      <td>40.0</td>\n      <td>59.0</td>\n      <td>49.5</td>\n    </tr>\n    <tr>\n      <th>3</th>\n      <td>100005</td>\n      <td>100005</td>\n      <td>2016</td>\n      <td>Albertville City</td>\n      <td>1</td>\n      <td>99</td>\n      <td>2</td>\n      <td>99</td>\n      <td>99</td>\n      <td>99</td>\n      <td>...</td>\n      <td>99</td>\n      <td>99</td>\n      <td>91.0</td>\n      <td>10.0</td>\n      <td>14.0</td>\n      <td>12.0</td>\n      <td>92.0</td>\n      <td>15.0</td>\n      <td>19.0</td>\n      <td>17.0</td>\n    </tr>\n    <tr>\n      <th>4</th>\n      <td>100005</td>\n      <td>100005</td>\n      <td>2016</td>\n      <td>Albertville City</td>\n      <td>1</td>\n      <td>99</td>\n      <td>99</td>\n      <td>99</td>\n      <td>99</td>\n      <td>99</td>\n      <td>...</td>\n      <td>99</td>\n      <td>99</td>\n      <td>177.0</td>\n      <td>10.0</td>\n      <td>14.0</td>\n      <td>12.0</td>\n      <td>178.0</td>\n      <td>20.0</td>\n      <td>24.0</td>\n      <td>22.0</td>\n    </tr>\n  </tbody>\n</table>\n<p>5 rows × 23 columns</p>\n</div>"
     },
     "metadata": {},
     "execution_count": 12
    }
   ],
   "source": [
    "# Read CSV's\n",
    "# we are using * to read all the years for CCD_LEA_enrollment_* at a School District level\n",
    "#path = \"school_districts/\"\n",
    "all_files = glob.glob(os.path.join(\"\", \"/Users/ajp/Downloads/urban/school_districts/districts_edfacts_assessments_*.csv\")) # 1GB \n",
    "df_from_each_file = (pd.read_csv(f) for f in all_files)\n",
    "districts_edfacts_assessments_df   = pd.concat(df_from_each_file, ignore_index=True)\n",
    "districts_edfacts_assessments_df.head()"
   ]
  },
  {
   "cell_type": "code",
   "execution_count": 13,
   "metadata": {},
   "outputs": [
    {
     "output_type": "stream",
     "name": "stdout",
     "text": [
      "Number of rows: 10852081\n",
      "Number of columns: 23\n",
      "<bound method Index.unique of Index(['leaid', 'leaid_num', 'year', 'lea_name', 'fips', 'grade_edfacts',\n",
      "       'race', 'sex', 'lep', 'homeless', 'migrant', 'disability',\n",
      "       'econ_disadvantaged', 'foster_care', 'military_connected',\n",
      "       'read_test_num_valid', 'read_test_pct_prof_low',\n",
      "       'read_test_pct_prof_high', 'read_test_pct_prof_midpt',\n",
      "       'math_test_num_valid', 'math_test_pct_prof_low',\n",
      "       'math_test_pct_prof_high', 'math_test_pct_prof_midpt'],\n",
      "      dtype='object')>\n",
      "True\n"
     ]
    }
   ],
   "source": [
    "# Lets gather some information from the data set.\n",
    "## How many rows? \n",
    "r, c = districts_edfacts_assessments_df.shape\n",
    "print(\"Number of rows: {}\".format(r)) \n",
    "# How many columns?\n",
    "print(\"Number of columns: {}\".format(c)) \n",
    "# what are the different columns?\n",
    "print(districts_edfacts_assessments_df.columns.unique)\n",
    "# Are there any Null Values?\n",
    "print(districts_edfacts_assessments_df.isnull().values.any())\n",
    "# Any possible isues with the dataSet?\n",
    "# How can we communicate this data set to non-technical people?\n",
    "# What type of information can we gather from it?\n",
    "# Possible machine learning models availabe just based on this data set? "
   ]
  },
  {
   "cell_type": "code",
   "execution_count": 55,
   "metadata": {},
   "outputs": [],
   "source": [
    "# Lets save a Sample data set\n",
    "districts_edfacts_assessments_sample_sample_df = districts_edfacts_assessments_df.sample(n=100000, random_state=1)\n",
    "\n",
    "districts_edfacts_assessments_sample_sample_df.to_csv('data_lake/district/sample_csv/districts_edfacts_assessments_sample_sample.csv', header=True, index=False)"
   ]
  },
  {
   "cell_type": "code",
   "execution_count": 68,
   "metadata": {},
   "outputs": [],
   "source": [
    "# Writing file as Parquet. \n",
    "districts_edfacts_assessments_df.to_parquet('data_lake/district/complete_parquet/districts_edfacts_assessments.parquet.gzip',compression='gzip')"
   ]
  },
  {
   "cell_type": "code",
   "execution_count": 58,
   "metadata": {},
   "outputs": [],
   "source": [
    "# Writing edfacts as csv\n",
    "districts_edfacts_assessments_df.to_csv('data_lake/district/complete_csv/districts_edfacts_assessments.csv')"
   ]
  },
  {
   "source": [
    "# School District Financial \n"
   ],
   "cell_type": "markdown",
   "metadata": {}
  },
  {
   "cell_type": "code",
   "execution_count": 59,
   "metadata": {},
   "outputs": [
    {
     "output_type": "execute_result",
     "data": {
      "text/plain": [
       "   year   leaid  fips    censusid   rev_total  rev_fed_total  \\\n",
       "0  1991  100005   1.0  15048401.0  11265000.0      1012000.0   \n",
       "1  1991  100006   1.0  15048001.0  22855000.0      2009000.0   \n",
       "2  1991  100007   1.0  15037401.0  36812000.0       651000.0   \n",
       "3  1991  100030   1.0  15062002.0  14397000.0      1014000.0   \n",
       "4  1991  100060   1.0  15020001.0   7768000.0       948000.0   \n",
       "\n",
       "   rev_fed_child_nutrition_act  rev_fed_state_title_i  rev_fed_state_idea  \\\n",
       "0                       285000                 413000              140000   \n",
       "1                       854000                 671000              249000   \n",
       "2                       179000                  99000              286000   \n",
       "3                       279000                 447000              136000   \n",
       "4                       247000                 295000              295000   \n",
       "\n",
       "   rev_fed_state_math_sci_teach  ...  debt_longterm_issued_FY  \\\n",
       "0                         10000  ...                      0.0   \n",
       "1                         18000  ...                      0.0   \n",
       "2                          6000  ...               44159000.0   \n",
       "3                         12000  ...                5353000.0   \n",
       "4                          8000  ...                      0.0   \n",
       "\n",
       "   debt_longterm_retired_FY  debt_longterm_outstand_end_FY  \\\n",
       "0                         0                            0.0   \n",
       "1                      2000                     12385000.0   \n",
       "2                    260000                     53960000.0   \n",
       "3                    192000                      6449000.0   \n",
       "4                         0                            0.0   \n",
       "\n",
       "   debt_shortterm_outstand_beg_FY  debt_shortterm_outstand_end_FY  \\\n",
       "0                               0                             0.0   \n",
       "1                               0                             0.0   \n",
       "2                               0                             0.0   \n",
       "3                               0                             0.0   \n",
       "4                               0                             0.0   \n",
       "\n",
       "   assets_sinking_fund  assets_bond_fund  assets_other  \\\n",
       "0                    0               0.0      732000.0   \n",
       "1               370000         1679000.0      511000.0   \n",
       "2                    0        30420000.0     3816000.0   \n",
       "3                    0         2005000.0     2619000.0   \n",
       "4                    0               0.0      144000.0   \n",
       "\n",
       "   enrollment_fall_responsible  enrollment_fall_school  \n",
       "0                       3084.0                     NaN  \n",
       "1                       6139.0                     NaN  \n",
       "2                       6328.0                     NaN  \n",
       "3                       3783.0                     NaN  \n",
       "4                       2154.0                     NaN  \n",
       "\n",
       "[5 rows x 133 columns]"
      ],
      "text/html": "<div>\n<style scoped>\n    .dataframe tbody tr th:only-of-type {\n        vertical-align: middle;\n    }\n\n    .dataframe tbody tr th {\n        vertical-align: top;\n    }\n\n    .dataframe thead th {\n        text-align: right;\n    }\n</style>\n<table border=\"1\" class=\"dataframe\">\n  <thead>\n    <tr style=\"text-align: right;\">\n      <th></th>\n      <th>year</th>\n      <th>leaid</th>\n      <th>fips</th>\n      <th>censusid</th>\n      <th>rev_total</th>\n      <th>rev_fed_total</th>\n      <th>rev_fed_child_nutrition_act</th>\n      <th>rev_fed_state_title_i</th>\n      <th>rev_fed_state_idea</th>\n      <th>rev_fed_state_math_sci_teach</th>\n      <th>...</th>\n      <th>debt_longterm_issued_FY</th>\n      <th>debt_longterm_retired_FY</th>\n      <th>debt_longterm_outstand_end_FY</th>\n      <th>debt_shortterm_outstand_beg_FY</th>\n      <th>debt_shortterm_outstand_end_FY</th>\n      <th>assets_sinking_fund</th>\n      <th>assets_bond_fund</th>\n      <th>assets_other</th>\n      <th>enrollment_fall_responsible</th>\n      <th>enrollment_fall_school</th>\n    </tr>\n  </thead>\n  <tbody>\n    <tr>\n      <th>0</th>\n      <td>1991</td>\n      <td>100005</td>\n      <td>1.0</td>\n      <td>15048401.0</td>\n      <td>11265000.0</td>\n      <td>1012000.0</td>\n      <td>285000</td>\n      <td>413000</td>\n      <td>140000</td>\n      <td>10000</td>\n      <td>...</td>\n      <td>0.0</td>\n      <td>0</td>\n      <td>0.0</td>\n      <td>0</td>\n      <td>0.0</td>\n      <td>0</td>\n      <td>0.0</td>\n      <td>732000.0</td>\n      <td>3084.0</td>\n      <td>NaN</td>\n    </tr>\n    <tr>\n      <th>1</th>\n      <td>1991</td>\n      <td>100006</td>\n      <td>1.0</td>\n      <td>15048001.0</td>\n      <td>22855000.0</td>\n      <td>2009000.0</td>\n      <td>854000</td>\n      <td>671000</td>\n      <td>249000</td>\n      <td>18000</td>\n      <td>...</td>\n      <td>0.0</td>\n      <td>2000</td>\n      <td>12385000.0</td>\n      <td>0</td>\n      <td>0.0</td>\n      <td>370000</td>\n      <td>1679000.0</td>\n      <td>511000.0</td>\n      <td>6139.0</td>\n      <td>NaN</td>\n    </tr>\n    <tr>\n      <th>2</th>\n      <td>1991</td>\n      <td>100007</td>\n      <td>1.0</td>\n      <td>15037401.0</td>\n      <td>36812000.0</td>\n      <td>651000.0</td>\n      <td>179000</td>\n      <td>99000</td>\n      <td>286000</td>\n      <td>6000</td>\n      <td>...</td>\n      <td>44159000.0</td>\n      <td>260000</td>\n      <td>53960000.0</td>\n      <td>0</td>\n      <td>0.0</td>\n      <td>0</td>\n      <td>30420000.0</td>\n      <td>3816000.0</td>\n      <td>6328.0</td>\n      <td>NaN</td>\n    </tr>\n    <tr>\n      <th>3</th>\n      <td>1991</td>\n      <td>100030</td>\n      <td>1.0</td>\n      <td>15062002.0</td>\n      <td>14397000.0</td>\n      <td>1014000.0</td>\n      <td>279000</td>\n      <td>447000</td>\n      <td>136000</td>\n      <td>12000</td>\n      <td>...</td>\n      <td>5353000.0</td>\n      <td>192000</td>\n      <td>6449000.0</td>\n      <td>0</td>\n      <td>0.0</td>\n      <td>0</td>\n      <td>2005000.0</td>\n      <td>2619000.0</td>\n      <td>3783.0</td>\n      <td>NaN</td>\n    </tr>\n    <tr>\n      <th>4</th>\n      <td>1991</td>\n      <td>100060</td>\n      <td>1.0</td>\n      <td>15020001.0</td>\n      <td>7768000.0</td>\n      <td>948000.0</td>\n      <td>247000</td>\n      <td>295000</td>\n      <td>295000</td>\n      <td>8000</td>\n      <td>...</td>\n      <td>0.0</td>\n      <td>0</td>\n      <td>0.0</td>\n      <td>0</td>\n      <td>0.0</td>\n      <td>0</td>\n      <td>0.0</td>\n      <td>144000.0</td>\n      <td>2154.0</td>\n      <td>NaN</td>\n    </tr>\n  </tbody>\n</table>\n<p>5 rows × 133 columns</p>\n</div>"
     },
     "metadata": {},
     "execution_count": 59
    }
   ],
   "source": [
    "# School District Financial \n",
    "finance_df = pd.read_csv(\"/Users/ajp/Downloads/urban/school_districts/districts_ccd_finance.csv\")\n",
    "finance_df.head()"
   ]
  },
  {
   "cell_type": "code",
   "execution_count": 60,
   "metadata": {},
   "outputs": [
    {
     "output_type": "stream",
     "name": "stdout",
     "text": [
      "Number of rows: 102513455\nNumber of columns: 7\n<bound method Index.unique of Index(['year', 'leaid', 'fips', 'censusid', 'rev_total', 'rev_fed_total',\n       'rev_fed_child_nutrition_act', 'rev_fed_state_title_i',\n       'rev_fed_state_idea', 'rev_fed_state_math_sci_teach',\n       ...\n       'debt_longterm_issued_FY', 'debt_longterm_retired_FY',\n       'debt_longterm_outstand_end_FY', 'debt_shortterm_outstand_beg_FY',\n       'debt_shortterm_outstand_end_FY', 'assets_sinking_fund',\n       'assets_bond_fund', 'assets_other', 'enrollment_fall_responsible',\n       'enrollment_fall_school'],\n      dtype='object', length=133)>\nTrue\n"
     ]
    }
   ],
   "source": [
    "# Lets gather some information from the data set.\n",
    "## How many rows? \n",
    "r, c = finance_df.shape\n",
    "print(\"Number of rows: {}\".format(r)) \n",
    "# How many columns?\n",
    "print(\"Number of columns: {}\".format(c)) \n",
    "# what are the different columns?\n",
    "print(finance_df.columns.unique)\n",
    "# Are there any Null Values?\n",
    "print(finance_df.isnull().values.any())\n",
    "# Any possible isues with the dataSet?\n",
    "# How can we communicate this data set to non-technical people?\n",
    "# What type of information can we gather from it?\n",
    "# Possible machine learning models availabe just based on this data set? "
   ]
  },
  {
   "cell_type": "code",
   "execution_count": 61,
   "metadata": {},
   "outputs": [],
   "source": [
    "# Save samples\n",
    "finance_sample_sample_df = finance_df.sample(n=100000, random_state=1)\n",
    "finance_sample_sample_df.to_csv('data_lake/district/sample_csv/finance_sample_sample_df.csv', header=True, index=False) "
   ]
  },
  {
   "cell_type": "code",
   "execution_count": 69,
   "metadata": {},
   "outputs": [],
   "source": [
    "# Save Full Parquet\n",
    "# Writing file as Parquet.   \n",
    "finance_type_convert_df = finance_df.astype(str)     \n",
    "finance_type_convert_df.to_parquet('data_lake/district/complete_parquet/finance_df.parquet.gzip',compression='gzip')"
   ]
  },
  {
   "cell_type": "code",
   "execution_count": 66,
   "metadata": {},
   "outputs": [],
   "source": [
    "# Writing file as CSV. \n",
    "# If its bigger than 100mb we will have to upload to google drive. \n",
    "finance_df.to_csv('data_lake/district/complete_csv/finance_df.csv')"
   ]
  }
 ]
}
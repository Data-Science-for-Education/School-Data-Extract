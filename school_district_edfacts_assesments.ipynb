{
 "metadata": {
  "language_info": {
   "codemirror_mode": {
    "name": "ipython",
    "version": 3
   },
   "file_extension": ".py",
   "mimetype": "text/x-python",
   "name": "python",
   "nbconvert_exporter": "python",
   "pygments_lexer": "ipython3",
   "version": "3.8.5-final"
  },
  "orig_nbformat": 2,
  "kernelspec": {
   "name": "python3",
   "display_name": "Python 3",
   "language": "python"
  }
 },
 "nbformat": 4,
 "nbformat_minor": 2,
 "cells": [
  {
   "cell_type": "code",
   "execution_count": 2,
   "metadata": {},
   "outputs": [],
   "source": [
    "import pandas as pd\n",
    "import glob, os    \n",
    "import matplotlib.pyplot as plt\n",
    "import numpy as np"
   ]
  },
  {
   "cell_type": "code",
   "execution_count": 4,
   "metadata": {},
   "outputs": [
    {
     "output_type": "execute_result",
     "data": {
      "text/plain": [
       "    leaid  leaid_num  year          lea_name  fips  grade_edfacts  race  sex  \\\n",
       "0  100005     100005  2016  Albertville City     1             99    99   99   \n",
       "1  100005     100005  2016  Albertville City     1             99     5   99   \n",
       "2  100005     100005  2016  Albertville City     1             99     4   99   \n",
       "3  100005     100005  2016  Albertville City     1             99     2   99   \n",
       "4  100005     100005  2016  Albertville City     1             99    99   99   \n",
       "\n",
       "   lep  homeless  ...  foster_care  military_connected  read_test_num_valid  \\\n",
       "0   99        99  ...           99                  99               2797.0   \n",
       "1   99        99  ...           99                  99                  3.0   \n",
       "2   99        99  ...           99                  99                 16.0   \n",
       "3   99        99  ...           99                  99                 91.0   \n",
       "4   99        99  ...           99                  99                177.0   \n",
       "\n",
       "   read_test_pct_prof_low  read_test_pct_prof_high  read_test_pct_prof_midpt  \\\n",
       "0                    28.0                     28.0                      28.0   \n",
       "1                    -3.0                     -3.0                      -3.0   \n",
       "2                    40.0                     59.0                      49.5   \n",
       "3                    10.0                     14.0                      12.0   \n",
       "4                    10.0                     14.0                      12.0   \n",
       "\n",
       "   math_test_num_valid  math_test_pct_prof_low  math_test_pct_prof_high  \\\n",
       "0               2837.0                    35.0                     35.0   \n",
       "1                  3.0                    -3.0                     -3.0   \n",
       "2                 17.0                    40.0                     59.0   \n",
       "3                 92.0                    15.0                     19.0   \n",
       "4                178.0                    20.0                     24.0   \n",
       "\n",
       "   math_test_pct_prof_midpt  \n",
       "0                      35.0  \n",
       "1                      -3.0  \n",
       "2                      49.5  \n",
       "3                      17.0  \n",
       "4                      22.0  \n",
       "\n",
       "[5 rows x 23 columns]"
      ],
      "text/html": "<div>\n<style scoped>\n    .dataframe tbody tr th:only-of-type {\n        vertical-align: middle;\n    }\n\n    .dataframe tbody tr th {\n        vertical-align: top;\n    }\n\n    .dataframe thead th {\n        text-align: right;\n    }\n</style>\n<table border=\"1\" class=\"dataframe\">\n  <thead>\n    <tr style=\"text-align: right;\">\n      <th></th>\n      <th>leaid</th>\n      <th>leaid_num</th>\n      <th>year</th>\n      <th>lea_name</th>\n      <th>fips</th>\n      <th>grade_edfacts</th>\n      <th>race</th>\n      <th>sex</th>\n      <th>lep</th>\n      <th>homeless</th>\n      <th>...</th>\n      <th>foster_care</th>\n      <th>military_connected</th>\n      <th>read_test_num_valid</th>\n      <th>read_test_pct_prof_low</th>\n      <th>read_test_pct_prof_high</th>\n      <th>read_test_pct_prof_midpt</th>\n      <th>math_test_num_valid</th>\n      <th>math_test_pct_prof_low</th>\n      <th>math_test_pct_prof_high</th>\n      <th>math_test_pct_prof_midpt</th>\n    </tr>\n  </thead>\n  <tbody>\n    <tr>\n      <th>0</th>\n      <td>100005</td>\n      <td>100005</td>\n      <td>2016</td>\n      <td>Albertville City</td>\n      <td>1</td>\n      <td>99</td>\n      <td>99</td>\n      <td>99</td>\n      <td>99</td>\n      <td>99</td>\n      <td>...</td>\n      <td>99</td>\n      <td>99</td>\n      <td>2797.0</td>\n      <td>28.0</td>\n      <td>28.0</td>\n      <td>28.0</td>\n      <td>2837.0</td>\n      <td>35.0</td>\n      <td>35.0</td>\n      <td>35.0</td>\n    </tr>\n    <tr>\n      <th>1</th>\n      <td>100005</td>\n      <td>100005</td>\n      <td>2016</td>\n      <td>Albertville City</td>\n      <td>1</td>\n      <td>99</td>\n      <td>5</td>\n      <td>99</td>\n      <td>99</td>\n      <td>99</td>\n      <td>...</td>\n      <td>99</td>\n      <td>99</td>\n      <td>3.0</td>\n      <td>-3.0</td>\n      <td>-3.0</td>\n      <td>-3.0</td>\n      <td>3.0</td>\n      <td>-3.0</td>\n      <td>-3.0</td>\n      <td>-3.0</td>\n    </tr>\n    <tr>\n      <th>2</th>\n      <td>100005</td>\n      <td>100005</td>\n      <td>2016</td>\n      <td>Albertville City</td>\n      <td>1</td>\n      <td>99</td>\n      <td>4</td>\n      <td>99</td>\n      <td>99</td>\n      <td>99</td>\n      <td>...</td>\n      <td>99</td>\n      <td>99</td>\n      <td>16.0</td>\n      <td>40.0</td>\n      <td>59.0</td>\n      <td>49.5</td>\n      <td>17.0</td>\n      <td>40.0</td>\n      <td>59.0</td>\n      <td>49.5</td>\n    </tr>\n    <tr>\n      <th>3</th>\n      <td>100005</td>\n      <td>100005</td>\n      <td>2016</td>\n      <td>Albertville City</td>\n      <td>1</td>\n      <td>99</td>\n      <td>2</td>\n      <td>99</td>\n      <td>99</td>\n      <td>99</td>\n      <td>...</td>\n      <td>99</td>\n      <td>99</td>\n      <td>91.0</td>\n      <td>10.0</td>\n      <td>14.0</td>\n      <td>12.0</td>\n      <td>92.0</td>\n      <td>15.0</td>\n      <td>19.0</td>\n      <td>17.0</td>\n    </tr>\n    <tr>\n      <th>4</th>\n      <td>100005</td>\n      <td>100005</td>\n      <td>2016</td>\n      <td>Albertville City</td>\n      <td>1</td>\n      <td>99</td>\n      <td>99</td>\n      <td>99</td>\n      <td>99</td>\n      <td>99</td>\n      <td>...</td>\n      <td>99</td>\n      <td>99</td>\n      <td>177.0</td>\n      <td>10.0</td>\n      <td>14.0</td>\n      <td>12.0</td>\n      <td>178.0</td>\n      <td>20.0</td>\n      <td>24.0</td>\n      <td>22.0</td>\n    </tr>\n  </tbody>\n</table>\n<p>5 rows × 23 columns</p>\n</div>"
     },
     "metadata": {},
     "execution_count": 4
    }
   ],
   "source": [
    "# Read CSV's\n",
    "# we are using * to read all the years for CCD_LEA_enrollment_* at a School District level\n",
    "#path = \"school_districts/\"\n",
    "all_files = glob.glob(os.path.join(\"\", \"/Users/ajp/Downloads/urban/school_districts/districts_edfacts_assessments_*.csv\")) # 1GB \n",
    "df_from_each_file = (pd.read_csv(f) for f in all_files)\n",
    "concatenated_df   = pd.concat(df_from_each_file, ignore_index=True)\n",
    "concatenated_df.head()"
   ]
  },
  {
   "cell_type": "code",
   "execution_count": 5,
   "metadata": {},
   "outputs": [],
   "source": [
    "# Writing file as Parquet. \n",
    "# Parquet files are stored in column format and are smaller in size opposed to a .csv\n",
    "# \n",
    "concatenated_df.to_parquet('districts_edfacts_assessments.parquet.gzip',\n",
    "                    engine='pyarrow',\n",
    "                   compression='gzip')"
   ]
  },
  {
   "cell_type": "code",
   "execution_count": 6,
   "metadata": {},
   "outputs": [
    {
     "output_type": "execute_result",
     "data": {
      "text/plain": [
       "            leaid  leaid_num  year                             lea_name  fips  \\\n",
       "0          100005     100005  2016                     Albertville City     1   \n",
       "1          100005     100005  2016                     Albertville City     1   \n",
       "2          100005     100005  2016                     Albertville City     1   \n",
       "3          100005     100005  2016                     Albertville City     1   \n",
       "4          100005     100005  2016                     Albertville City     1   \n",
       "...           ...        ...   ...                                  ...   ...   \n",
       "10852076  7200030    7200030  2009  PUERTO RICO DEPARTMENT OF EDUCATION    72   \n",
       "10852077  7200030    7200030  2009  PUERTO RICO DEPARTMENT OF EDUCATION    72   \n",
       "10852078  7200030    7200030  2009  PUERTO RICO DEPARTMENT OF EDUCATION    72   \n",
       "10852079  7200030    7200030  2009  PUERTO RICO DEPARTMENT OF EDUCATION    72   \n",
       "10852080  7200030    7200030  2009  PUERTO RICO DEPARTMENT OF EDUCATION    72   \n",
       "\n",
       "          grade_edfacts  race  sex  lep  homeless  ...  foster_care  \\\n",
       "0                    99    99   99   99        99  ...           99   \n",
       "1                    99     5   99   99        99  ...           99   \n",
       "2                    99     4   99   99        99  ...           99   \n",
       "3                    99     2   99   99        99  ...           99   \n",
       "4                    99    99   99   99        99  ...           99   \n",
       "...                 ...   ...  ...  ...       ...  ...          ...   \n",
       "10852076              9    99   99    1        99  ...           99   \n",
       "10852077              9    99    1   99        99  ...           99   \n",
       "10852078              9    99   99   99        99  ...           99   \n",
       "10852079              9     7   99   99        99  ...           99   \n",
       "10852080              9     1   99   99        99  ...           99   \n",
       "\n",
       "          military_connected  read_test_num_valid  read_test_pct_prof_low  \\\n",
       "0                         99               2797.0                    28.0   \n",
       "1                         99                  3.0                    -3.0   \n",
       "2                         99                 16.0                    40.0   \n",
       "3                         99                 91.0                    10.0   \n",
       "4                         99                177.0                    10.0   \n",
       "...                      ...                  ...                     ...   \n",
       "10852076                  99                114.0                     6.0   \n",
       "10852077                  99              14696.0                    27.0   \n",
       "10852078                  99                  0.0                    -2.0   \n",
       "10852079                  99                 25.0                     0.0   \n",
       "10852080                  99                 33.0                    50.0   \n",
       "\n",
       "          read_test_pct_prof_high  read_test_pct_prof_midpt  \\\n",
       "0                            28.0                      28.0   \n",
       "1                            -3.0                      -3.0   \n",
       "2                            59.0                      49.5   \n",
       "3                            14.0                      12.0   \n",
       "4                            14.0                      12.0   \n",
       "...                           ...                       ...   \n",
       "10852076                      9.0                       7.5   \n",
       "10852077                     27.0                      27.0   \n",
       "10852078                     -2.0                      -2.0   \n",
       "10852079                     20.0                      10.0   \n",
       "10852080                     59.0                      54.5   \n",
       "\n",
       "          math_test_num_valid  math_test_pct_prof_low  \\\n",
       "0                      2837.0                    35.0   \n",
       "1                         3.0                    -3.0   \n",
       "2                        17.0                    40.0   \n",
       "3                        92.0                    15.0   \n",
       "4                       178.0                    20.0   \n",
       "...                       ...                     ...   \n",
       "10852076                116.0                     0.0   \n",
       "10852077              14701.0                     4.0   \n",
       "10852078                  0.0                    -2.0   \n",
       "10852079                 24.0                     0.0   \n",
       "10852080                 32.0                     0.0   \n",
       "\n",
       "          math_test_pct_prof_high  math_test_pct_prof_midpt  \n",
       "0                            35.0                      35.0  \n",
       "1                            -3.0                      -3.0  \n",
       "2                            59.0                      49.5  \n",
       "3                            19.0                      17.0  \n",
       "4                            24.0                      22.0  \n",
       "...                           ...                       ...  \n",
       "10852076                      5.0                       2.5  \n",
       "10852077                      4.0                       4.0  \n",
       "10852078                     -2.0                      -2.0  \n",
       "10852079                     20.0                      10.0  \n",
       "10852080                     10.0                       5.0  \n",
       "\n",
       "[10852081 rows x 23 columns]"
      ],
      "text/html": "<div>\n<style scoped>\n    .dataframe tbody tr th:only-of-type {\n        vertical-align: middle;\n    }\n\n    .dataframe tbody tr th {\n        vertical-align: top;\n    }\n\n    .dataframe thead th {\n        text-align: right;\n    }\n</style>\n<table border=\"1\" class=\"dataframe\">\n  <thead>\n    <tr style=\"text-align: right;\">\n      <th></th>\n      <th>leaid</th>\n      <th>leaid_num</th>\n      <th>year</th>\n      <th>lea_name</th>\n      <th>fips</th>\n      <th>grade_edfacts</th>\n      <th>race</th>\n      <th>sex</th>\n      <th>lep</th>\n      <th>homeless</th>\n      <th>...</th>\n      <th>foster_care</th>\n      <th>military_connected</th>\n      <th>read_test_num_valid</th>\n      <th>read_test_pct_prof_low</th>\n      <th>read_test_pct_prof_high</th>\n      <th>read_test_pct_prof_midpt</th>\n      <th>math_test_num_valid</th>\n      <th>math_test_pct_prof_low</th>\n      <th>math_test_pct_prof_high</th>\n      <th>math_test_pct_prof_midpt</th>\n    </tr>\n  </thead>\n  <tbody>\n    <tr>\n      <th>0</th>\n      <td>100005</td>\n      <td>100005</td>\n      <td>2016</td>\n      <td>Albertville City</td>\n      <td>1</td>\n      <td>99</td>\n      <td>99</td>\n      <td>99</td>\n      <td>99</td>\n      <td>99</td>\n      <td>...</td>\n      <td>99</td>\n      <td>99</td>\n      <td>2797.0</td>\n      <td>28.0</td>\n      <td>28.0</td>\n      <td>28.0</td>\n      <td>2837.0</td>\n      <td>35.0</td>\n      <td>35.0</td>\n      <td>35.0</td>\n    </tr>\n    <tr>\n      <th>1</th>\n      <td>100005</td>\n      <td>100005</td>\n      <td>2016</td>\n      <td>Albertville City</td>\n      <td>1</td>\n      <td>99</td>\n      <td>5</td>\n      <td>99</td>\n      <td>99</td>\n      <td>99</td>\n      <td>...</td>\n      <td>99</td>\n      <td>99</td>\n      <td>3.0</td>\n      <td>-3.0</td>\n      <td>-3.0</td>\n      <td>-3.0</td>\n      <td>3.0</td>\n      <td>-3.0</td>\n      <td>-3.0</td>\n      <td>-3.0</td>\n    </tr>\n    <tr>\n      <th>2</th>\n      <td>100005</td>\n      <td>100005</td>\n      <td>2016</td>\n      <td>Albertville City</td>\n      <td>1</td>\n      <td>99</td>\n      <td>4</td>\n      <td>99</td>\n      <td>99</td>\n      <td>99</td>\n      <td>...</td>\n      <td>99</td>\n      <td>99</td>\n      <td>16.0</td>\n      <td>40.0</td>\n      <td>59.0</td>\n      <td>49.5</td>\n      <td>17.0</td>\n      <td>40.0</td>\n      <td>59.0</td>\n      <td>49.5</td>\n    </tr>\n    <tr>\n      <th>3</th>\n      <td>100005</td>\n      <td>100005</td>\n      <td>2016</td>\n      <td>Albertville City</td>\n      <td>1</td>\n      <td>99</td>\n      <td>2</td>\n      <td>99</td>\n      <td>99</td>\n      <td>99</td>\n      <td>...</td>\n      <td>99</td>\n      <td>99</td>\n      <td>91.0</td>\n      <td>10.0</td>\n      <td>14.0</td>\n      <td>12.0</td>\n      <td>92.0</td>\n      <td>15.0</td>\n      <td>19.0</td>\n      <td>17.0</td>\n    </tr>\n    <tr>\n      <th>4</th>\n      <td>100005</td>\n      <td>100005</td>\n      <td>2016</td>\n      <td>Albertville City</td>\n      <td>1</td>\n      <td>99</td>\n      <td>99</td>\n      <td>99</td>\n      <td>99</td>\n      <td>99</td>\n      <td>...</td>\n      <td>99</td>\n      <td>99</td>\n      <td>177.0</td>\n      <td>10.0</td>\n      <td>14.0</td>\n      <td>12.0</td>\n      <td>178.0</td>\n      <td>20.0</td>\n      <td>24.0</td>\n      <td>22.0</td>\n    </tr>\n    <tr>\n      <th>...</th>\n      <td>...</td>\n      <td>...</td>\n      <td>...</td>\n      <td>...</td>\n      <td>...</td>\n      <td>...</td>\n      <td>...</td>\n      <td>...</td>\n      <td>...</td>\n      <td>...</td>\n      <td>...</td>\n      <td>...</td>\n      <td>...</td>\n      <td>...</td>\n      <td>...</td>\n      <td>...</td>\n      <td>...</td>\n      <td>...</td>\n      <td>...</td>\n      <td>...</td>\n      <td>...</td>\n    </tr>\n    <tr>\n      <th>10852076</th>\n      <td>7200030</td>\n      <td>7200030</td>\n      <td>2009</td>\n      <td>PUERTO RICO DEPARTMENT OF EDUCATION</td>\n      <td>72</td>\n      <td>9</td>\n      <td>99</td>\n      <td>99</td>\n      <td>1</td>\n      <td>99</td>\n      <td>...</td>\n      <td>99</td>\n      <td>99</td>\n      <td>114.0</td>\n      <td>6.0</td>\n      <td>9.0</td>\n      <td>7.5</td>\n      <td>116.0</td>\n      <td>0.0</td>\n      <td>5.0</td>\n      <td>2.5</td>\n    </tr>\n    <tr>\n      <th>10852077</th>\n      <td>7200030</td>\n      <td>7200030</td>\n      <td>2009</td>\n      <td>PUERTO RICO DEPARTMENT OF EDUCATION</td>\n      <td>72</td>\n      <td>9</td>\n      <td>99</td>\n      <td>1</td>\n      <td>99</td>\n      <td>99</td>\n      <td>...</td>\n      <td>99</td>\n      <td>99</td>\n      <td>14696.0</td>\n      <td>27.0</td>\n      <td>27.0</td>\n      <td>27.0</td>\n      <td>14701.0</td>\n      <td>4.0</td>\n      <td>4.0</td>\n      <td>4.0</td>\n    </tr>\n    <tr>\n      <th>10852078</th>\n      <td>7200030</td>\n      <td>7200030</td>\n      <td>2009</td>\n      <td>PUERTO RICO DEPARTMENT OF EDUCATION</td>\n      <td>72</td>\n      <td>9</td>\n      <td>99</td>\n      <td>99</td>\n      <td>99</td>\n      <td>99</td>\n      <td>...</td>\n      <td>99</td>\n      <td>99</td>\n      <td>0.0</td>\n      <td>-2.0</td>\n      <td>-2.0</td>\n      <td>-2.0</td>\n      <td>0.0</td>\n      <td>-2.0</td>\n      <td>-2.0</td>\n      <td>-2.0</td>\n    </tr>\n    <tr>\n      <th>10852079</th>\n      <td>7200030</td>\n      <td>7200030</td>\n      <td>2009</td>\n      <td>PUERTO RICO DEPARTMENT OF EDUCATION</td>\n      <td>72</td>\n      <td>9</td>\n      <td>7</td>\n      <td>99</td>\n      <td>99</td>\n      <td>99</td>\n      <td>...</td>\n      <td>99</td>\n      <td>99</td>\n      <td>25.0</td>\n      <td>0.0</td>\n      <td>20.0</td>\n      <td>10.0</td>\n      <td>24.0</td>\n      <td>0.0</td>\n      <td>20.0</td>\n      <td>10.0</td>\n    </tr>\n    <tr>\n      <th>10852080</th>\n      <td>7200030</td>\n      <td>7200030</td>\n      <td>2009</td>\n      <td>PUERTO RICO DEPARTMENT OF EDUCATION</td>\n      <td>72</td>\n      <td>9</td>\n      <td>1</td>\n      <td>99</td>\n      <td>99</td>\n      <td>99</td>\n      <td>...</td>\n      <td>99</td>\n      <td>99</td>\n      <td>33.0</td>\n      <td>50.0</td>\n      <td>59.0</td>\n      <td>54.5</td>\n      <td>32.0</td>\n      <td>0.0</td>\n      <td>10.0</td>\n      <td>5.0</td>\n    </tr>\n  </tbody>\n</table>\n<p>10852081 rows × 23 columns</p>\n</div>"
     },
     "metadata": {},
     "execution_count": 6
    }
   ],
   "source": [
    "# Read parquet File\n",
    "mydataframe = pd.read_parquet('districts_edfacts_assessments.parquet.gzip', engine='pyarrow')\n",
    "\n",
    "mydataframe"
   ]
  },
  {
   "cell_type": "code",
   "execution_count": null,
   "metadata": {},
   "outputs": [],
   "source": []
  }
 ]
}